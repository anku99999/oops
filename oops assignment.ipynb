{
 "cells": [
  {
   "cell_type": "code",
   "execution_count": 1,
   "id": "31ccc9f1-7c4b-4fb3-93f8-7f491915c60c",
   "metadata": {},
   "outputs": [],
   "source": [
    "#1. Explain the importance of function.\n",
    "# Function are the block of codes for some basic computation.\n",
    "# function is important because:\n",
    "# It keeps your code neat and clean\n",
    "# code is reusable,dont need to write same code again and again."
   ]
  },
  {
   "cell_type": "code",
   "execution_count": 2,
   "id": "109e0d21-468a-483a-b01c-f94114cfb5cd",
   "metadata": {},
   "outputs": [],
   "source": [
    "#2. Write a basic function to greet student.\n",
    "def greet(n):\n",
    "    print(\"goodmorning welcome to the class\",n)"
   ]
  },
  {
   "cell_type": "code",
   "execution_count": 3,
   "id": "ac75bb43-ccba-43c0-9639-f0d0282ae762",
   "metadata": {},
   "outputs": [
    {
     "name": "stdout",
     "output_type": "stream",
     "text": [
      "goodmorning welcome to the class ajay\n"
     ]
    }
   ],
   "source": [
    "greet(\"ajay\")"
   ]
  },
  {
   "cell_type": "code",
   "execution_count": 4,
   "id": "06d394c6-a4a6-4130-b970-6021cf048897",
   "metadata": {},
   "outputs": [],
   "source": [
    "#3. What is the difference between print and return statement.\n",
    "#Print statement is used to display output to the console or terminal.\n",
    "# Return statement is used to exit the function and return a value back to the caller."
   ]
  },
  {
   "cell_type": "code",
   "execution_count": 6,
   "id": "530d4651-9d0d-4ebe-86e2-b767f305eda1",
   "metadata": {},
   "outputs": [],
   "source": [
    "#4. What is *args and **kwargs.\n",
    "# *args are Arbituary arguments.\n",
    "# args are used to pass a variable of non keyword argument to a function.\n",
    "def func(*args):\n",
    "    for i in args:\n",
    "        print(i)"
   ]
  },
  {
   "cell_type": "code",
   "execution_count": 7,
   "id": "a9e7f6c3-4cdf-435d-844d-20f72e1cb2a0",
   "metadata": {},
   "outputs": [
    {
     "name": "stdout",
     "output_type": "stream",
     "text": [
      "hello\n"
     ]
    }
   ],
   "source": [
    "func(\"hello\")"
   ]
  },
  {
   "cell_type": "code",
   "execution_count": 16,
   "id": "a1232d9a-af12-4d18-a016-977404c7ca22",
   "metadata": {},
   "outputs": [],
   "source": [
    "# **kwargs is key value argument.\n",
    "# For writting a code in the form of key value pair.\n",
    "def func(**kwargs):\n",
    "    for key,value in kwargs.items():\n",
    "        print(key,value)"
   ]
  },
  {
   "cell_type": "code",
   "execution_count": 17,
   "id": "d3d1b813-a20c-45c7-83c3-f3a349686bd4",
   "metadata": {},
   "outputs": [
    {
     "name": "stdout",
     "output_type": "stream",
     "text": [
      "name ankit\n",
      "age 30\n"
     ]
    }
   ],
   "source": [
    "func(name=\"ankit\",age=30)"
   ]
  },
  {
   "cell_type": "code",
   "execution_count": 18,
   "id": "e38cf036-2a3a-4bc7-a8f2-5ad8a2d0adc6",
   "metadata": {},
   "outputs": [
    {
     "name": "stdout",
     "output_type": "stream",
     "text": [
      "1\n",
      "2\n",
      "34\n",
      "5\n"
     ]
    }
   ],
   "source": [
    "#5. Explain the iterator function.\n",
    "# A function that is used to iterate over iterable object.\n",
    "list=[1,2,34,5]\n",
    "for i in list:\n",
    "    print(i)"
   ]
  },
  {
   "cell_type": "code",
   "execution_count": 19,
   "id": "94af47bb-26f3-4d0f-bcc1-42aedf74a743",
   "metadata": {},
   "outputs": [],
   "source": [
    "#the above process is called iteration."
   ]
  },
  {
   "cell_type": "code",
   "execution_count": 20,
   "id": "d90cceae-4d4b-48c2-8daa-51a6769abd2d",
   "metadata": {},
   "outputs": [],
   "source": [
    "#6. Write a code that generates the square of number from 1 to n using a generator.\n",
    "def square_number_generator(n):\n",
    "    for i in range(n):\n",
    "        yield i**2\n"
   ]
  },
  {
   "cell_type": "code",
   "execution_count": 25,
   "id": "2ad2537e-aadc-4070-912d-a4c82747ce25",
   "metadata": {},
   "outputs": [],
   "source": [
    "gen=square_number_generator(5)"
   ]
  },
  {
   "cell_type": "code",
   "execution_count": 26,
   "id": "b94d2cd1-395e-45de-a44f-98b669b1b1c0",
   "metadata": {},
   "outputs": [
    {
     "data": {
      "text/plain": [
       "0"
      ]
     },
     "execution_count": 26,
     "metadata": {},
     "output_type": "execute_result"
    }
   ],
   "source": [
    "next(gen)"
   ]
  },
  {
   "cell_type": "code",
   "execution_count": 27,
   "id": "df992819-9d64-4e88-a18d-9d68b9b04e20",
   "metadata": {},
   "outputs": [
    {
     "data": {
      "text/plain": [
       "1"
      ]
     },
     "execution_count": 27,
     "metadata": {},
     "output_type": "execute_result"
    }
   ],
   "source": [
    "next(gen)"
   ]
  },
  {
   "cell_type": "code",
   "execution_count": 28,
   "id": "3f696a75-fb8f-4fd6-b130-f53a8e7610cd",
   "metadata": {},
   "outputs": [
    {
     "data": {
      "text/plain": [
       "4"
      ]
     },
     "execution_count": 28,
     "metadata": {},
     "output_type": "execute_result"
    }
   ],
   "source": [
    "next(gen)"
   ]
  },
  {
   "cell_type": "code",
   "execution_count": 2,
   "id": "3a43771f-2d83-4170-a13f-0ee45206809c",
   "metadata": {},
   "outputs": [],
   "source": [
    "#7. Write a code to genarate palindromic numbers upto n using a generator.\n",
    "def palindromic_number(n):\n",
    "    for i in range(n):\n",
    "        if str(i)==str(i)[::-1]:\n",
    "            yield i\n",
    "        "
   ]
  },
  {
   "cell_type": "code",
   "execution_count": 3,
   "id": "255c82ec-7c88-4186-9384-b2a82d21d0d1",
   "metadata": {},
   "outputs": [],
   "source": [
    "num=palindromic_number(100)"
   ]
  },
  {
   "cell_type": "code",
   "execution_count": 4,
   "id": "8143c516-eb5a-4000-abef-4d73713f58e9",
   "metadata": {},
   "outputs": [
    {
     "data": {
      "text/plain": [
       "0"
      ]
     },
     "execution_count": 4,
     "metadata": {},
     "output_type": "execute_result"
    }
   ],
   "source": [
    "next(num)"
   ]
  },
  {
   "cell_type": "code",
   "execution_count": 5,
   "id": "96c15101-d2bf-4c8c-9865-56e3e92fa195",
   "metadata": {},
   "outputs": [
    {
     "data": {
      "text/plain": [
       "1"
      ]
     },
     "execution_count": 5,
     "metadata": {},
     "output_type": "execute_result"
    }
   ],
   "source": [
    "next(num)"
   ]
  },
  {
   "cell_type": "code",
   "execution_count": 4,
   "id": "18279724-66ff-4656-8e1b-0b24b98ed36c",
   "metadata": {},
   "outputs": [],
   "source": [
    "#8. Write a code that generates even numbers from 2 to n using a generator.\n",
    "def even_number(n):\n",
    "    for num in range(2,n+1,2):\n",
    "        yield num\n",
    "    "
   ]
  },
  {
   "cell_type": "code",
   "execution_count": 5,
   "id": "3e91d61e-8871-4460-908a-b731285259a6",
   "metadata": {},
   "outputs": [],
   "source": [
    "even=even_number(10)"
   ]
  },
  {
   "cell_type": "code",
   "execution_count": 32,
   "id": "2e742fe9-4f18-4a85-9245-06d87d0af390",
   "metadata": {},
   "outputs": [
    {
     "data": {
      "text/plain": [
       "4"
      ]
     },
     "execution_count": 32,
     "metadata": {},
     "output_type": "execute_result"
    }
   ],
   "source": [
    "next(even)"
   ]
  },
  {
   "cell_type": "code",
   "execution_count": 39,
   "id": "f929a05a-2011-4151-a41a-32e5d1da43dd",
   "metadata": {},
   "outputs": [
    {
     "name": "stdout",
     "output_type": "stream",
     "text": [
      "Powers of two up to 100 :\n",
      "1 2 4 8 16 32 64 "
     ]
    }
   ],
   "source": [
    "#9. Write a code that generates a power of two upto n using a generator.\n",
    "def generate_powers_of_two(n):\n",
    "    power = 1\n",
    "    while power <= n:\n",
    "        yield power\n",
    "        power *= 2\n",
    "\n",
    "# Example usage:\n",
    "n = 100\n",
    "powers_of_two_generator = generate_powers_of_two(n)\n",
    "\n",
    "print(\"Powers of two up to\", n, \":\")\n",
    "for power_of_two in powers_of_two_generator:\n",
    "    print(power_of_two, end=\" \")\n",
    "\n",
    "    \n"
   ]
  },
  {
   "cell_type": "code",
   "execution_count": 56,
   "id": "c86b3a18-f544-4d28-b309-06cbfcf91284",
   "metadata": {},
   "outputs": [
    {
     "name": "stdout",
     "output_type": "stream",
     "text": [
      "Prime numbers up to 50:\n",
      "2 3 5 7 11 13 17 19 23 29 31 37 41 43 47 "
     ]
    }
   ],
   "source": [
    "#10. Write a code that generates prime number upto n using a generator.\n",
    "def generate_primes(n):\n",
    "    def is_prime(num):\n",
    "        if num < 2:\n",
    "            return False\n",
    "        for i in range(2, int(num**0.5) + 1):\n",
    "            if num % i == 0:\n",
    "                return False\n",
    "        return True\n",
    "\n",
    "    for num in range(2, n + 1):\n",
    "        if is_prime(num):\n",
    "            yield num\n",
    "\n",
    "# Example usage:\n",
    "n = 50\n",
    "prime_generator = generate_primes(n)\n",
    "\n",
    "print(f\"Prime numbers up to {n}:\")\n",
    "for prime in prime_generator:\n",
    "    print(prime, end=\" \")\n",
    "\n"
   ]
  },
  {
   "cell_type": "code",
   "execution_count": 67,
   "id": "fa3e3833-b5c4-45bd-997b-049b7e7cbb1b",
   "metadata": {},
   "outputs": [],
   "source": [
    "#11. Writa a code that uses a lambda function to calculate the sum of two integers.\n",
    "add =lambda a,b : a+b"
   ]
  },
  {
   "cell_type": "code",
   "execution_count": 68,
   "id": "0bc7aaf5-874f-4b17-8550-ecb3da82acc1",
   "metadata": {},
   "outputs": [
    {
     "data": {
      "text/plain": [
       "5"
      ]
     },
     "execution_count": 68,
     "metadata": {},
     "output_type": "execute_result"
    }
   ],
   "source": [
    "add(2,3)"
   ]
  },
  {
   "cell_type": "code",
   "execution_count": 69,
   "id": "4e04bf35-60fa-49ec-8b01-f2cabb72a278",
   "metadata": {},
   "outputs": [],
   "source": [
    "#12. Write a code that uses a lambda function to claculate a square of a given number.\n",
    "square_num =lambda x : x**2"
   ]
  },
  {
   "cell_type": "code",
   "execution_count": 70,
   "id": "819975b0-664d-4b4a-83a1-716612cecf79",
   "metadata": {},
   "outputs": [
    {
     "data": {
      "text/plain": [
       "25"
      ]
     },
     "execution_count": 70,
     "metadata": {},
     "output_type": "execute_result"
    }
   ],
   "source": [
    "square_num(5)"
   ]
  },
  {
   "cell_type": "code",
   "execution_count": 75,
   "id": "078fce67-df7d-4371-a63f-18ee50f4fdab",
   "metadata": {},
   "outputs": [],
   "source": [
    "#13. Write a code that uses a lambda function to check whether a given number is even or odd.\n",
    "check_num =lambda x : \"even\" if x%2==0 else \"odd\""
   ]
  },
  {
   "cell_type": "code",
   "execution_count": 76,
   "id": "4be7b06d-14cf-4b28-893a-c82992228cab",
   "metadata": {},
   "outputs": [
    {
     "data": {
      "text/plain": [
       "'odd'"
      ]
     },
     "execution_count": 76,
     "metadata": {},
     "output_type": "execute_result"
    }
   ],
   "source": [
    "check_num(3)"
   ]
  },
  {
   "cell_type": "code",
   "execution_count": 78,
   "id": "d7625ff9-f7ae-400d-9210-eac122f5fe5c",
   "metadata": {},
   "outputs": [],
   "source": [
    "#15. Write a code that uses lambda function to concatenate two strings.\n",
    "join_str=lambda x,y: str(x+y)"
   ]
  },
  {
   "cell_type": "code",
   "execution_count": 79,
   "id": "7274c74a-2c6c-4f7a-a87f-0b3b9cdce163",
   "metadata": {},
   "outputs": [
    {
     "data": {
      "text/plain": [
       "'ankitanand'"
      ]
     },
     "execution_count": 79,
     "metadata": {},
     "output_type": "execute_result"
    }
   ],
   "source": [
    "join_str(\"ankit\",\"anand\")"
   ]
  },
  {
   "cell_type": "code",
   "execution_count": 5,
   "id": "dc154758-29b0-4725-952b-dfba2e35799a",
   "metadata": {},
   "outputs": [],
   "source": [
    "#16. Write a code that uses lambda function to find the maximum of given three numbers.\n",
    "max_of =lambda x,y,z : max(x,y,z)\n"
   ]
  },
  {
   "cell_type": "code",
   "execution_count": 6,
   "id": "cf843be5-4039-498d-a7ed-7cf27ff70f30",
   "metadata": {},
   "outputs": [
    {
     "data": {
      "text/plain": [
       "65"
      ]
     },
     "execution_count": 6,
     "metadata": {},
     "output_type": "execute_result"
    }
   ],
   "source": [
    "max_of(12,45,65)"
   ]
  },
  {
   "cell_type": "code",
   "execution_count": 14,
   "id": "8602206a-3560-4a1d-83ee-675481633a33",
   "metadata": {},
   "outputs": [],
   "source": [
    "#17. Write a code that generates the square of even numbers from the given list.\n",
    "def square(list1):\n",
    "    sq=[]\n",
    "    for i in list1:\n",
    "        if i%2==0:\n",
    "            sq.append(i**2)\n",
    "    return sq "
   ]
  },
  {
   "cell_type": "code",
   "execution_count": 15,
   "id": "8afdaeef-ce54-4ad6-ab56-90b7cc740197",
   "metadata": {},
   "outputs": [
    {
     "data": {
      "text/plain": [
       "[4, 16, 3136, 6084, 64]"
      ]
     },
     "execution_count": 15,
     "metadata": {},
     "output_type": "execute_result"
    }
   ],
   "source": [
    "square([1,2,3,4,56,78,8,9])"
   ]
  },
  {
   "cell_type": "code",
   "execution_count": 24,
   "id": "04622c33-a0ee-4db3-acb9-da4c6812c392",
   "metadata": {},
   "outputs": [
    {
     "name": "stdout",
     "output_type": "stream",
     "text": [
      "Product of positive numbers from the list: 72\n"
     ]
    }
   ],
   "source": [
    "#18. Write a code that calculates the product of positive numbers from a given list.\n",
    "def product_of_positives(numbers):\n",
    "    product = 1\n",
    "    for num in numbers:\n",
    "        if num > 0:\n",
    "            product *= num\n",
    "    return product\n",
    "\n",
    "# Example usage:\n",
    "numbers = [1, -2, 3, 4, -5, 6]\n",
    "result = product_of_positives(numbers)\n",
    "\n",
    "print(\"Product of positive numbers from the list:\", result)\n"
   ]
  },
  {
   "cell_type": "code",
   "execution_count": 27,
   "id": "640e41d6-0d64-45b9-b82a-7faa42a5b2f8",
   "metadata": {},
   "outputs": [],
   "source": [
    "#19. Write a code that doubles the value of odd numbers from the given list.\n",
    "def doubling(list2):\n",
    "    db=[]\n",
    "    for i in list2:\n",
    "        if i%2!=0:\n",
    "            db.append(i*2)\n",
    "    return db"
   ]
  },
  {
   "cell_type": "code",
   "execution_count": 28,
   "id": "220b4a12-0652-4bd3-a2d1-11c2b2a73d66",
   "metadata": {},
   "outputs": [
    {
     "data": {
      "text/plain": [
       "[2, 6, 10]"
      ]
     },
     "execution_count": 28,
     "metadata": {},
     "output_type": "execute_result"
    }
   ],
   "source": [
    "doubling([1,2,3,4,5,6])"
   ]
  },
  {
   "cell_type": "code",
   "execution_count": 29,
   "id": "df454da1-2346-43ae-bbff-fce99b494efe",
   "metadata": {},
   "outputs": [
    {
     "name": "stdout",
     "output_type": "stream",
     "text": [
      "Sum of cubes of numbers from the list: 225\n"
     ]
    }
   ],
   "source": [
    "#20. Write a code that calculates the sum of cubes of number from a given list.\n",
    "def sum_of_cubes(numbers):\n",
    "    return sum(num ** 3 for num in numbers)\n",
    "\n",
    "# Example usage:\n",
    "numbers = [1, 2, 3, 4, 5]\n",
    "result = sum_of_cubes(numbers)\n",
    "\n",
    "print(\"Sum of cubes of numbers from the list:\", result)\n"
   ]
  },
  {
   "cell_type": "code",
   "execution_count": 36,
   "id": "14ce9200-587b-4447-aef5-2515c5274142",
   "metadata": {},
   "outputs": [
    {
     "name": "stdout",
     "output_type": "stream",
     "text": [
      "Prime numbers from the list: [2, 3, 5, 7]\n"
     ]
    }
   ],
   "source": [
    "#21. Write a code that filters out prime number from the a given list.\n",
    "def is_prime(num):\n",
    "    if num < 2:\n",
    "        return False\n",
    "    for i in range(2, int(num**0.5) + 1):\n",
    "        if num % i == 0:\n",
    "            return False\n",
    "    return True\n",
    "\n",
    "def filter_primes(numbers):\n",
    "    return [num for num in numbers if is_prime(num)]\n",
    "\n",
    "# Example usage:\n",
    "numbers = [1, 2, 3, 4, 5, 6, 7, 8, 9, 10]\n",
    "prime_numbers = filter_primes(numbers)\n",
    "\n",
    "print(\"Prime numbers from the list:\", prime_numbers)  "
   ]
  },
  {
   "cell_type": "code",
   "execution_count": 37,
   "id": "d49a654e-20d1-42a5-ab97-e982fcef4b77",
   "metadata": {},
   "outputs": [],
   "source": [
    "#22.  Writa a code that uses a lambda function to calculate the sum of two integers.\n",
    "add =lambda a,b : a+b"
   ]
  },
  {
   "cell_type": "code",
   "execution_count": 38,
   "id": "7553d3ed-4e5a-463b-a918-a9db38df29f9",
   "metadata": {},
   "outputs": [
    {
     "data": {
      "text/plain": [
       "13"
      ]
     },
     "execution_count": 38,
     "metadata": {},
     "output_type": "execute_result"
    }
   ],
   "source": [
    "add(6,7)"
   ]
  },
  {
   "cell_type": "code",
   "execution_count": 39,
   "id": "87c2f225-0604-4e30-8c02-ef330c78c3ce",
   "metadata": {},
   "outputs": [],
   "source": [
    "#23. Write a code that uses a lambda function to claculate a square of a given number.\n",
    "square_num =lambda x : x**2"
   ]
  },
  {
   "cell_type": "code",
   "execution_count": 40,
   "id": "b77492de-d45f-4f5a-a602-7e7a4aab01e2",
   "metadata": {},
   "outputs": [
    {
     "data": {
      "text/plain": [
       "144"
      ]
     },
     "execution_count": 40,
     "metadata": {},
     "output_type": "execute_result"
    }
   ],
   "source": [
    "square_num(12)"
   ]
  },
  {
   "cell_type": "code",
   "execution_count": 41,
   "id": "833e4eb0-7394-40e5-8c57-eeb22868f046",
   "metadata": {},
   "outputs": [],
   "source": [
    "#24.  Write a code that uses a lambda function to check whether a given number is even or odd.\n",
    "check_num =lambda x : \"even\" if x%2==0 else \"odd\""
   ]
  },
  {
   "cell_type": "code",
   "execution_count": 42,
   "id": "52e00e5f-1bd9-401d-8091-19a362006547",
   "metadata": {},
   "outputs": [
    {
     "data": {
      "text/plain": [
       "'odd'"
      ]
     },
     "execution_count": 42,
     "metadata": {},
     "output_type": "execute_result"
    }
   ],
   "source": [
    "check_num(23)"
   ]
  },
  {
   "cell_type": "code",
   "execution_count": 43,
   "id": "b55b53dc-3f5b-401d-aa89-7df2a56618c4",
   "metadata": {},
   "outputs": [],
   "source": [
    "#25.  Write a code that uses lambda function to concatenate two strings.\n",
    "join_str=lambda x,y: str(x+y)"
   ]
  },
  {
   "cell_type": "code",
   "execution_count": 44,
   "id": "7ab55923-aac8-455f-aa4b-83bc43a94b09",
   "metadata": {},
   "outputs": [
    {
     "data": {
      "text/plain": [
       "'pwskills'"
      ]
     },
     "execution_count": 44,
     "metadata": {},
     "output_type": "execute_result"
    }
   ],
   "source": [
    "join_str(\"pw\",\"skills\")"
   ]
  },
  {
   "cell_type": "code",
   "execution_count": 45,
   "id": "6e967c02-79eb-4dff-9639-23583ea93e5e",
   "metadata": {},
   "outputs": [],
   "source": [
    "#26. Write a code that uses lambda function to find the maximum of given three numbers.\n",
    "max_of =lambda x,y,z : max(x,y,z)"
   ]
  },
  {
   "cell_type": "code",
   "execution_count": 47,
   "id": "80233c70-669e-4fd3-a93e-9d71b0143239",
   "metadata": {},
   "outputs": [
    {
     "data": {
      "text/plain": [
       "567"
      ]
     },
     "execution_count": 47,
     "metadata": {},
     "output_type": "execute_result"
    }
   ],
   "source": [
    "max_of(45,567,234)"
   ]
  },
  {
   "cell_type": "code",
   "execution_count": 81,
   "id": "d99ce3de-d67a-4ded-94fe-5c2c77332096",
   "metadata": {},
   "outputs": [],
   "source": [
    "#27. What is encapsulation in oop ?\n",
    "# Incpasulation means binding data and variables inside a class.\n",
    "# Incpasulation is hiding data.\n",
    "# There are three types of encapsulation : member , function , class."
   ]
  },
  {
   "cell_type": "code",
   "execution_count": 49,
   "id": "14d829f7-0fd4-4fff-85ca-e932ab94b2d6",
   "metadata": {},
   "outputs": [],
   "source": [
    "#28. Explain the use of access modifier in python classes.\n",
    "# hiding something\n",
    "#it is a process where we decide how much we hide data and at what extent.\n",
    "#byundling of data and methods\n",
    "# there are three types of access modifier\n",
    "# private , public ,protected modifier.\n",
    "#Public: Accessible from anywhere\n",
    "#Private: Indicated by a double underscore (__), intended for internal use within the class only, with name mangling to discourage outside access.\n",
    "#Protected: Indicated by a single underscore (_), intended for internal use within the class and its subclasses, but can still be accessed from outside\n"
   ]
  },
  {
   "cell_type": "code",
   "execution_count": 52,
   "id": "3c70c17e-01fa-4739-8bde-5acc0729fd71",
   "metadata": {},
   "outputs": [
    {
     "name": "stdout",
     "output_type": "stream",
     "text": [
      "Inheritance in Python is a powerful feature that allows a class (called a child or subclass) to inherit attributes and methods from another class (called a parent or superclass). This promotes code reuse and establishes a natural hierarchical relationship between classes\n"
     ]
    }
   ],
   "source": [
    "#29. What is inheritance in OOP ?\n",
    "print(\"Inheritance in Python is a powerful feature that allows a class (called a child or subclass) to inherit attributes and methods from another class (called a parent or superclass). This promotes code reuse and establishes a natural hierarchical relationship between classes\")"
   ]
  },
  {
   "cell_type": "code",
   "execution_count": 54,
   "id": "03723148-b86e-478c-9201-74435ac93e3e",
   "metadata": {},
   "outputs": [
    {
     "name": "stdout",
     "output_type": "stream",
     "text": [
      " poly means many and morphism means state \n",
      " Polymorphism is a core concept in object-oriented programming (OOP) that allows objects of different classes to be treated as objects of a common superclass. It enables a single interface to represent different underlying forms (data types). In Python, polymorphism can be demonstrated through method overriding and the use of common interfaces\n"
     ]
    }
   ],
   "source": [
    "#30. Define polymorphism in oops ?\n",
    "print(\" poly means many and morphism means state \\n Polymorphism is a core concept in object-oriented programming (OOP) that allows objects of different classes to be treated as objects of a common superclass. It enables a single interface to represent different underlying forms (data types). In Python, polymorphism can be demonstrated through method overriding and the use of common interfaces\")"
   ]
  },
  {
   "cell_type": "code",
   "execution_count": 55,
   "id": "d68c1797-045d-4d0c-ad2e-595452fde057",
   "metadata": {},
   "outputs": [
    {
     "name": "stdout",
     "output_type": "stream",
     "text": [
      "When a subclass provides a specific implementation of a method that is already defined in its superclass, it is known as method overriding. This allows a subclass to provide a specific behavior while maintaining a common interface.\n"
     ]
    }
   ],
   "source": [
    "#31. Explain method overiding in python.\n",
    "print(\"When a subclass provides a specific implementation of a method that is already defined in its superclass, it is known as method overriding. This allows a subclass to provide a specific behavior while maintaining a common interface.\")"
   ]
  },
  {
   "cell_type": "code",
   "execution_count": 37,
   "id": "646ceb27-30d9-4e07-a53d-b329e2898fa5",
   "metadata": {},
   "outputs": [],
   "source": [
    "#eg\n",
    "class Parent:\n",
    "    def hello(self):\n",
    "        print(\"i am not dominant\")\n",
    "class Child(Parent):\n",
    "    def hello(self):\n",
    "        print(\"I am dominant\")\n",
    "    \n"
   ]
  },
  {
   "cell_type": "code",
   "execution_count": 42,
   "id": "b941f608-c94a-4ea1-873f-a01dad8e9dc1",
   "metadata": {},
   "outputs": [],
   "source": [
    "c1=Parent()\n",
    "c1=Child()"
   ]
  },
  {
   "cell_type": "code",
   "execution_count": 43,
   "id": "2afcae31-b2da-4635-8949-01501ca45426",
   "metadata": {},
   "outputs": [
    {
     "name": "stdout",
     "output_type": "stream",
     "text": [
      "I am dominant\n"
     ]
    }
   ],
   "source": [
    "c1.hello()"
   ]
  },
  {
   "cell_type": "code",
   "execution_count": 44,
   "id": "949c2022-0a18-478a-9cf9-1152e8b86aad",
   "metadata": {},
   "outputs": [],
   "source": [
    "#32.Define a parent class Animal with a method make_sound that prints \"generic animal sound\". Create a child class Dog inheriting from Animal with a method make_sound that prints\"woof!\".\n",
    "class Animal:\n",
    "    def make_sound(self):\n",
    "        print(\"Generic animal sound\")\n",
    "class Dog(Animal):\n",
    "    def make_sound(self):\n",
    "        print(\"Woof!\")\n"
   ]
  },
  {
   "cell_type": "code",
   "execution_count": 45,
   "id": "4730886f-e909-4542-a461-83dac1ca9574",
   "metadata": {},
   "outputs": [],
   "source": [
    "a1=Animal()\n",
    "a2=Dog()"
   ]
  },
  {
   "cell_type": "code",
   "execution_count": 46,
   "id": "19d39bf3-563e-49be-9f5c-a601c9583312",
   "metadata": {},
   "outputs": [
    {
     "name": "stdout",
     "output_type": "stream",
     "text": [
      "Generic animal sound\n"
     ]
    }
   ],
   "source": [
    "a1.make_sound()"
   ]
  },
  {
   "cell_type": "code",
   "execution_count": 47,
   "id": "19acc708-ae72-4598-b0cc-f8bac113fd57",
   "metadata": {},
   "outputs": [
    {
     "name": "stdout",
     "output_type": "stream",
     "text": [
      "Woof!\n"
     ]
    }
   ],
   "source": [
    "a2.make_sound()"
   ]
  },
  {
   "cell_type": "code",
   "execution_count": 48,
   "id": "7fc14224-c22b-4c80-ba77-6ef1ce51bf4c",
   "metadata": {},
   "outputs": [],
   "source": [
    "#33. Define a method move in the Animal class that prints\"Animal moves\". Override the move method i the Dog class to print\"Dog runs\".\n",
    "class Animal:\n",
    "    def move(self):\n",
    "        print(\"Animal moves\")\n",
    "class Dog(Animal):\n",
    "    def move(self):\n",
    "        print(\"Dog moves\")\n"
   ]
  },
  {
   "cell_type": "code",
   "execution_count": 49,
   "id": "bd731ab4-f644-453f-9505-03d612d5cd50",
   "metadata": {},
   "outputs": [],
   "source": [
    "am1=Animal()\n",
    "am1=Dog()"
   ]
  },
  {
   "cell_type": "code",
   "execution_count": 50,
   "id": "c7d267dc-1a9b-4a8c-a39c-53b6167bc66e",
   "metadata": {},
   "outputs": [
    {
     "name": "stdout",
     "output_type": "stream",
     "text": [
      "Dog moves\n"
     ]
    }
   ],
   "source": [
    "am1.move()"
   ]
  },
  {
   "cell_type": "code",
   "execution_count": 51,
   "id": "8cb6724c-9c64-472b-8085-a6490328a905",
   "metadata": {},
   "outputs": [],
   "source": [
    "# here the child class ie Dog is more dominant called method overriding."
   ]
  },
  {
   "cell_type": "code",
   "execution_count": 52,
   "id": "570fb485-6b34-40df-85d5-c15faca1bd0a",
   "metadata": {},
   "outputs": [],
   "source": [
    "#34. Create a class Mammal with a method reproduce that prints\"Giving birth to live young\".Create a class DogMammal inheriting from Dog and Mammal.\n",
    "class Mammal:\n",
    "    def Reproduce(self):\n",
    "        print(\"Giving birth to live young\")\n",
    "class Dog:\n",
    "    def giving_birth(self):\n",
    "        print(\"Giving birth to puppy\")\n",
    "class DogMammal(Mammal,Dog):\n",
    "    pass"
   ]
  },
  {
   "cell_type": "code",
   "execution_count": 53,
   "id": "5605ce96-510e-4f46-a19c-f82f62dd750e",
   "metadata": {},
   "outputs": [],
   "source": [
    "dm=DogMammal()"
   ]
  },
  {
   "cell_type": "code",
   "execution_count": 54,
   "id": "8c5cd1b3-5401-4177-9fb7-a77e04e4701d",
   "metadata": {},
   "outputs": [
    {
     "name": "stdout",
     "output_type": "stream",
     "text": [
      "Giving birth to puppy\n"
     ]
    }
   ],
   "source": [
    "dm.giving_birth()"
   ]
  },
  {
   "cell_type": "code",
   "execution_count": 55,
   "id": "dd017ecd-3495-4fe8-8ff7-73cdb618f0b1",
   "metadata": {},
   "outputs": [
    {
     "name": "stdout",
     "output_type": "stream",
     "text": [
      "Giving birth to live young\n"
     ]
    }
   ],
   "source": [
    "dm.Reproduce()"
   ]
  },
  {
   "cell_type": "code",
   "execution_count": 56,
   "id": "4323b348-fba8-4d69-94f7-c0f488e1c890",
   "metadata": {},
   "outputs": [],
   "source": [
    "# Here DogMammal inherit both Mammal and Dog.\n"
   ]
  },
  {
   "cell_type": "code",
   "execution_count": 57,
   "id": "83e4e5ae-1087-4156-9d56-039ab36bf726",
   "metadata": {},
   "outputs": [],
   "source": [
    "#35. create a class GermanShepherd inheriting from Dog and override the make_sound method to print  \"Bark!\".\n",
    "class Dog:\n",
    "    def make_sound(self):\n",
    "        print(\"Woof!\")\n",
    "class GermanShepherd(Dog):\n",
    "    def make_sound(self):\n",
    "        print(\"Bark!\")"
   ]
  },
  {
   "cell_type": "code",
   "execution_count": 59,
   "id": "82cd0297-ec25-4ad8-aeb6-391e2f174c3f",
   "metadata": {},
   "outputs": [],
   "source": [
    "s1=Dog()\n",
    "s1=GermanShepherd()"
   ]
  },
  {
   "cell_type": "code",
   "execution_count": 60,
   "id": "dcd133f3-6e1e-4bd4-a699-3630d323933b",
   "metadata": {},
   "outputs": [
    {
     "name": "stdout",
     "output_type": "stream",
     "text": [
      "Bark!\n"
     ]
    }
   ],
   "source": [
    "s1.make_sound()"
   ]
  },
  {
   "cell_type": "code",
   "execution_count": 61,
   "id": "3a581514-14ca-47b8-8114-d9d69b6c12bd",
   "metadata": {},
   "outputs": [],
   "source": [
    "#36. Define constructors in both the Animal and Dog classes with different initialization parameters.\n",
    "class Animal:\n",
    "    def __init__(self,name,species):\n",
    "        self.name=name\n",
    "        self.species=species\n",
    "class Dog:\n",
    "    def __init__(self,breed,colour):\n",
    "        self.breed=breed\n",
    "        self.colour=colour\n"
   ]
  },
  {
   "cell_type": "code",
   "execution_count": 65,
   "id": "d15a4881-eaca-45d4-9bce-c47b5fe61be1",
   "metadata": {},
   "outputs": [],
   "source": [
    "c1=Animal(\"cat\",\"lion\")"
   ]
  },
  {
   "cell_type": "code",
   "execution_count": 67,
   "id": "6918d5d0-531e-4552-98bd-7ef66e14d18c",
   "metadata": {},
   "outputs": [
    {
     "data": {
      "text/plain": [
       "'cat'"
      ]
     },
     "execution_count": 67,
     "metadata": {},
     "output_type": "execute_result"
    }
   ],
   "source": [
    "c1.name"
   ]
  },
  {
   "cell_type": "code",
   "execution_count": 68,
   "id": "badaf12c-b13e-4a7f-9b86-96cce4950e21",
   "metadata": {},
   "outputs": [],
   "source": [
    "c2=Dog(\"GermanShepherd\",\"black\")"
   ]
  },
  {
   "cell_type": "code",
   "execution_count": 69,
   "id": "cc9a46fa-ee7f-4dc7-8344-26b3762166b3",
   "metadata": {},
   "outputs": [
    {
     "data": {
      "text/plain": [
       "'black'"
      ]
     },
     "execution_count": 69,
     "metadata": {},
     "output_type": "execute_result"
    }
   ],
   "source": [
    "c2.colour"
   ]
  },
  {
   "cell_type": "code",
   "execution_count": 71,
   "id": "d45b4764-1970-4a9e-a77d-8c04cdd38207",
   "metadata": {},
   "outputs": [],
   "source": [
    "#37.What is abstraction in phython? How is it implemented ?\n",
    "#Abstraction concept of hiding complex implimentation details of an object.\n",
    "import abc\n",
    "class pwskills:\n",
    "    @abc.abstractmethod\n",
    "    def student_detail(self):\n",
    "        pass\n",
    "    @abc.abstractmethod\n",
    "    def student_assignment(self):\n",
    "        pass\n",
    "    @abc.abstractmethod\n",
    "    def student_class(self):\n",
    "        pass\n",
    "class datascience(pwskills):\n",
    "    def student_details(self):\n",
    "        print(\"data science course\")\n",
    "    def student_marks(self):\n",
    "        print(\"master course\")"
   ]
  },
  {
   "cell_type": "code",
   "execution_count": 74,
   "id": "43fe60b2-78bd-43c4-998a-aaeb1969418e",
   "metadata": {},
   "outputs": [],
   "source": [
    "ds=datascience()"
   ]
  },
  {
   "cell_type": "code",
   "execution_count": 75,
   "id": "ba0033ad-08bb-46c3-913b-e16fdf166cac",
   "metadata": {},
   "outputs": [
    {
     "name": "stdout",
     "output_type": "stream",
     "text": [
      "data science course\n"
     ]
    }
   ],
   "source": [
    "ds.student_details()"
   ]
  },
  {
   "cell_type": "code",
   "execution_count": 76,
   "id": "cecbf8f9-479a-4cd9-807c-dd350b2178bd",
   "metadata": {},
   "outputs": [
    {
     "name": "stdout",
     "output_type": "stream",
     "text": [
      "Abstraction helps manage complexity by allowing programmers to focus on high-level concepts and ignore the intricate details of the implementation. This makes the code easier to understand and maintain.\n",
      "Abstraction leads to a separation of concerns, where different parts of a program are divided into distinct sections.\n",
      "Abstraction naturally promotes encapsulation by hiding the internal state and requiring all interactions to be performed through well-defined interfaces.Abstraction naturally promotes encapsulation by hiding the internal state and requiring all interactions to be performed through well-defined interfaces.\n",
      "Abstraction naturally promotes encapsulation by hiding the internal state and requiring all interactions to be performed through well-defined interfaces.\n"
     ]
    }
   ],
   "source": [
    "#38. Explain the importance of abstraction in object oriented programming.\n",
    "print(\"Abstraction helps manage complexity by allowing programmers to focus on high-level concepts and ignore the intricate details of the implementation. This makes the code easier to understand and maintain.\\nAbstraction leads to a separation of concerns, where different parts of a program are divided into distinct sections.\\nAbstraction naturally promotes encapsulation by hiding the internal state and requiring all interactions to be performed through well-defined interfaces.Abstraction naturally promotes encapsulation by hiding the internal state and requiring all interactions to be performed through well-defined interfaces.\\nAbstraction naturally promotes encapsulation by hiding the internal state and requiring all interactions to be performed through well-defined interfaces.\")\n"
   ]
  },
  {
   "cell_type": "code",
   "execution_count": 80,
   "id": "8117250c-1b52-497f-8158-225a2f71b7fc",
   "metadata": {},
   "outputs": [
    {
     "data": {
      "text/plain": [
       "'Abstract Methods: Defined using the @abstractmethod decorator in an abstract class, contain no implementation, and must be overridden in subclasses.\\nRegular Methods: Defined with an implementation, can be used directly by instances of the class, and may be overridden in subclasses to provide specific behavior.'"
      ]
     },
     "execution_count": 80,
     "metadata": {},
     "output_type": "execute_result"
    }
   ],
   "source": [
    "#39.How is abstract method different different from regular methods in phython.\n",
    "\"\"\"Abstract Methods: Defined using the @abstractmethod decorator in an abstract class, contain no implementation, and must be overridden in subclasses.\n",
    "Regular Methods: Defined with an implementation, can be used directly by instances of the class, and may be overridden in subclasses to provide specific behavior.\"\"\"\n"
   ]
  },
  {
   "cell_type": "code",
   "execution_count": 81,
   "id": "22d715ff-e51a-493b-9090-c20ce4c0382d",
   "metadata": {},
   "outputs": [],
   "source": [
    "#40. How can you achieve abstraction using interfaces in python.\n",
    "class circle:\n",
    "    def __init__(self,radius):\n",
    "        self.__radius=radius\n",
    "    @property\n",
    "    def radius(self):\n",
    "        return self.__radius\n",
    "    @radius.setter\n",
    "    def radius_set(self,newradius):\n",
    "        self.radius=newradius\n",
    "    def area(self):\n",
    "        return 3.14 * self.radius * self.radius\n"
   ]
  },
  {
   "cell_type": "code",
   "execution_count": 82,
   "id": "264fef9f-c91e-4949-ac9e-7b87f9a357d3",
   "metadata": {},
   "outputs": [],
   "source": [
    "c=circle(6)"
   ]
  },
  {
   "cell_type": "code",
   "execution_count": 83,
   "id": "002bedb2-3250-4c99-87dd-f55f5511d0c6",
   "metadata": {},
   "outputs": [
    {
     "data": {
      "text/plain": [
       "6"
      ]
     },
     "execution_count": 83,
     "metadata": {},
     "output_type": "execute_result"
    }
   ],
   "source": [
    "c.radius"
   ]
  },
  {
   "cell_type": "code",
   "execution_count": 84,
   "id": "a7e71388-61d3-4185-b8eb-68979ed5d0f7",
   "metadata": {},
   "outputs": [
    {
     "data": {
      "text/plain": [
       "113.03999999999999"
      ]
     },
     "execution_count": 84,
     "metadata": {},
     "output_type": "execute_result"
    }
   ],
   "source": [
    "c.area()"
   ]
  },
  {
   "cell_type": "code",
   "execution_count": 3,
   "id": "954a97b9-3fdd-4d0a-9e80-749bed4d9b70",
   "metadata": {},
   "outputs": [],
   "source": [
    "#41. Can you provide an example how abstraction can be utilised to create a common interface of group of releated class in python.\n",
    "import abc\n",
    "class payment_method():\n",
    "    @abc.abstractmethod\n",
    "    def authorize(self,ammount):\n",
    "        pass\n",
    "    @abc.abstractmethod\n",
    "    def capture(self,ammount):\n",
    "        pass\n",
    "    @abc.abstractmethod\n",
    "    def refund(self,ammount):\n",
    "        pass"
   ]
  },
  {
   "cell_type": "code",
   "execution_count": 9,
   "id": "4657f719-d9b4-4230-8958-708a45dc558c",
   "metadata": {},
   "outputs": [],
   "source": [
    "class CreditCardpayment(payment_method):\n",
    "    def authorize(self, amount):\n",
    "        print(f\"Authorizing credit card payment of {amount}\")\n",
    "        # Implementation for authorizing credit card payment\n",
    "\n",
    "    def capture(self, amount):\n",
    "        print(f\"Capturing credit card payment of {amount}\")\n",
    "        # Implementation for capturing credit card payment\n",
    "\n",
    "    def refund(self, amount):\n",
    "        print(f\"Refunding credit card payment of {amount}\")\n",
    "        # Implementation for refunding credit card payment"
   ]
  },
  {
   "cell_type": "code",
   "execution_count": 14,
   "id": "3a30d8bb-c85d-40c9-a468-afa3980ecdac",
   "metadata": {},
   "outputs": [],
   "source": [
    "payment=CreditCardpayment()"
   ]
  },
  {
   "cell_type": "code",
   "execution_count": 15,
   "id": "f226a539-6a5c-4963-9cd6-6e579dc1d995",
   "metadata": {},
   "outputs": [
    {
     "name": "stdout",
     "output_type": "stream",
     "text": [
      "Capturing credit card payment of 1000\n"
     ]
    }
   ],
   "source": [
    "payment.capture(1000)"
   ]
  },
  {
   "cell_type": "code",
   "execution_count": 131,
   "id": "1f3999df-0486-40eb-b869-7fe000898622",
   "metadata": {},
   "outputs": [
    {
     "data": {
      "text/plain": [
       "'Define a Superclass:The superclass defines a method that will be overridden by subclasses.\\nCreate Subclasses:Each subclass inherits from the superclass and overrides the method defined in the superclass.\\nUse Polymorphism:\\nA function or method can take an object of the superclass type, and at runtime, the overridden method in the subclass will be called.'"
      ]
     },
     "execution_count": 131,
     "metadata": {},
     "output_type": "execute_result"
    }
   ],
   "source": [
    "#42.How does Python achieve polymorphism through method overriding ?\n",
    "\"\"\"Define a Superclass:The superclass defines a method that will be overridden by subclasses.\n",
    "Create Subclasses:Each subclass inherits from the superclass and overrides the method defined in the superclass.\n",
    "Use Polymorphism:\n",
    "A function or method can take an object of the superclass type, and at runtime, the overridden method in the subclass will be called.\"\"\"\n"
   ]
  },
  {
   "cell_type": "code",
   "execution_count": 17,
   "id": "5d4b2f6c-d361-459f-bf69-7c96238357f0",
   "metadata": {},
   "outputs": [],
   "source": [
    "#example\n",
    "class papa:\n",
    "    def salary(self):\n",
    "        print(\"Rs 1,20,000 is credited to your account\")\n",
    "class baccha(papa):\n",
    "    def salary(self):\n",
    "        print(\"Rs 80,000 is credited to your account\")"
   ]
  },
  {
   "cell_type": "code",
   "execution_count": 18,
   "id": "c7334fa1-de0e-49ba-9323-f84b43f0278f",
   "metadata": {},
   "outputs": [],
   "source": [
    "salary_slip=baccha()"
   ]
  },
  {
   "cell_type": "code",
   "execution_count": 23,
   "id": "f20fad0f-428d-49d7-8c9b-bb300ca7fc50",
   "metadata": {},
   "outputs": [
    {
     "name": "stdout",
     "output_type": "stream",
     "text": [
      "Rs 80,000 is credited to your account\n"
     ]
    }
   ],
   "source": [
    "salary_slip.salary()"
   ]
  },
  {
   "cell_type": "code",
   "execution_count": 25,
   "id": "34adaded-f5f0-4812-99bc-16b1bb3716b0",
   "metadata": {},
   "outputs": [],
   "source": [
    "#43. Define a base class with a method and a subclass that overrides the method.\n",
    "class Senior_player:  # This is base class.\n",
    "    def status(self):\n",
    "        print(\"player playing retired soon\")\n",
    "class Junior_player:   # This is subclass\n",
    "    def status(self):\n",
    "        print(\"are playing and senior of tommorow\")    "
   ]
  },
  {
   "cell_type": "code",
   "execution_count": 26,
   "id": "bd22a462-1380-4bbb-b986-72a605a099b9",
   "metadata": {},
   "outputs": [],
   "source": [
    "status_today=Junior_player()"
   ]
  },
  {
   "cell_type": "code",
   "execution_count": 27,
   "id": "bb0282d6-6f56-4adf-b171-8d211cca4449",
   "metadata": {},
   "outputs": [
    {
     "name": "stdout",
     "output_type": "stream",
     "text": [
      "are playing and senior of tommorow\n"
     ]
    }
   ],
   "source": [
    "status_today.status()"
   ]
  },
  {
   "cell_type": "code",
   "execution_count": 28,
   "id": "28826fa2-fb16-436d-8f3e-c00afa516ca9",
   "metadata": {},
   "outputs": [],
   "source": [
    "#Here subclass overrides the baseclass"
   ]
  },
  {
   "cell_type": "code",
   "execution_count": 29,
   "id": "1d2d6bb4-cb17-42b8-ace2-a4b493248afa",
   "metadata": {},
   "outputs": [],
   "source": [
    "#44.Define a baseclass and muntiple subclasses with overridden methods.\n",
    "class Animal: # Base class\n",
    "    def sound(self):\n",
    "        print(\"animal sound\")\n",
    "class Cat(Animal): #first sub class\n",
    "    def sound(self):\n",
    "        print(\"meow\")\n",
    "class Dog(Animal):  # Second subclass\n",
    "    def sound(self):\n",
    "        print(\"bark\")      "
   ]
  },
  {
   "cell_type": "code",
   "execution_count": 30,
   "id": "7aef5bf1-5826-41d3-ad39-8e334d8bc91e",
   "metadata": {},
   "outputs": [],
   "source": [
    "animal_info=Cat()"
   ]
  },
  {
   "cell_type": "code",
   "execution_count": 31,
   "id": "3f563073-4279-467c-b90a-901a687b6bfd",
   "metadata": {},
   "outputs": [
    {
     "name": "stdout",
     "output_type": "stream",
     "text": [
      "meow\n"
     ]
    }
   ],
   "source": [
    "animal_info.sound()"
   ]
  },
  {
   "cell_type": "code",
   "execution_count": 32,
   "id": "17dbbb61-b58e-4c90-bcd4-eb611e5d233b",
   "metadata": {},
   "outputs": [],
   "source": [
    "animal_infos=Dog()"
   ]
  },
  {
   "cell_type": "code",
   "execution_count": 33,
   "id": "c68f5382-e8d8-451a-8884-e4f55af5ca91",
   "metadata": {},
   "outputs": [
    {
     "name": "stdout",
     "output_type": "stream",
     "text": [
      "bark\n"
     ]
    }
   ],
   "source": [
    "animal_infos.sound()"
   ]
  },
  {
   "cell_type": "code",
   "execution_count": 34,
   "id": "9b572168-a9cd-436b-a5a1-2372692c5c6b",
   "metadata": {},
   "outputs": [],
   "source": [
    "# Here both subclasses overrides the base class."
   ]
  },
  {
   "cell_type": "code",
   "execution_count": 35,
   "id": "8b29fa51-a502-4240-acc4-c38ab3aa605c",
   "metadata": {},
   "outputs": [],
   "source": [
    "#45. How does polymorphism improve code readibility and reusebility.\n",
    "# The same interface can be used to perform different functionalities, reducing code duplication.\n",
    "#Polymorphism allows different classes to be treated through a common interface. This makes the code easier to understand because you can work with a common set of methods regardless of the specific object type.\n",
    "class Animal: # Base class\n",
    "    def sound(self):\n",
    "        print(\"animal sound\")\n",
    "class Cat(Animal): #first sub class\n",
    "    def sound(self):\n",
    "        print(\"meow\")\n",
    "class Dog(Animal):  # Second subclass\n",
    "    def sound(self):\n",
    "        print(\"bark\")      "
   ]
  },
  {
   "cell_type": "code",
   "execution_count": 36,
   "id": "cb80e81b-5d42-424f-99ce-a592deda3e0c",
   "metadata": {},
   "outputs": [],
   "source": [
    "s1=Dog() # once we define the object we dont have to write code again and again"
   ]
  },
  {
   "cell_type": "code",
   "execution_count": 37,
   "id": "c3a6823c-6b3b-4f8b-ad80-bfd65144a5b9",
   "metadata": {},
   "outputs": [
    {
     "name": "stdout",
     "output_type": "stream",
     "text": [
      "bark\n"
     ]
    }
   ],
   "source": [
    "s1.sound()"
   ]
  },
  {
   "cell_type": "code",
   "execution_count": 132,
   "id": "f4520f47-bba7-437f-a818-023df3d3f85c",
   "metadata": {},
   "outputs": [
    {
     "data": {
      "text/plain": [
       "'Duck typing allows different classes to be used interchangeably if they implement the required methods. This form of polymorphism is highly flexible and can be more intuitive than traditional type-based polymorphism found in other languages.'"
      ]
     },
     "execution_count": 132,
     "metadata": {},
     "output_type": "execute_result"
    }
   ],
   "source": [
    "#46.Describe how python supports polymorphism with duck typing.\n",
    "\"\"\"Duck typing allows different classes to be used interchangeably if they implement the required methods. This form of polymorphism is highly flexible and can be more intuitive than traditional type-based polymorphism found in other languages.\"\"\""
   ]
  },
  {
   "cell_type": "code",
   "execution_count": 49,
   "id": "fb349b4b-044a-4465-86ef-f0476d6f8ea1",
   "metadata": {},
   "outputs": [],
   "source": [
    "#example:\n",
    "class Rohit:\n",
    "    def batting_position(self):\n",
    "        print(\"I am an opening batsman\")\n",
    "class Virat:\n",
    "    def batting_position(self):\n",
    "        print(\"I am greatest one down batsman\")\n",
    "class Dhoni:\n",
    "    def batting_position(self):\n",
    "        print(\" I am the greatest finisher in the world\")"
   ]
  },
  {
   "cell_type": "code",
   "execution_count": 50,
   "id": "83e34413-989c-4061-9294-5bc1f67f02d8",
   "metadata": {},
   "outputs": [],
   "source": [
    "def batsman_role(role):\n",
    "    print(\"all are good batsman\")"
   ]
  },
  {
   "cell_type": "code",
   "execution_count": 51,
   "id": "37333ba5-ad5d-44b0-9759-a8cefff66c5f",
   "metadata": {},
   "outputs": [],
   "source": [
    "sharma=Rohit()"
   ]
  },
  {
   "cell_type": "code",
   "execution_count": 52,
   "id": "4c80ca51-0d84-4fa3-8d1d-db7692f48140",
   "metadata": {},
   "outputs": [],
   "source": [
    "kohli=Virat()"
   ]
  },
  {
   "cell_type": "code",
   "execution_count": 53,
   "id": "39d8c3f6-fea5-4789-a6c0-3023b19b64c3",
   "metadata": {},
   "outputs": [],
   "source": [
    "mahi=Dhoni()"
   ]
  },
  {
   "cell_type": "code",
   "execution_count": 54,
   "id": "5a45c0a0-5d65-4791-aa21-7683bbc97790",
   "metadata": {},
   "outputs": [],
   "source": [
    "roles=[sharma,kohli,mahi]"
   ]
  },
  {
   "cell_type": "code",
   "execution_count": 55,
   "id": "9cccd268-8c10-4c70-97a9-fd5ed886259d",
   "metadata": {},
   "outputs": [
    {
     "name": "stdout",
     "output_type": "stream",
     "text": [
      "all are good batsman\n",
      "all are good batsman\n",
      "all are good batsman\n"
     ]
    }
   ],
   "source": [
    "for role in roles:\n",
    "    batsman_role(role)\n",
    "    "
   ]
  },
  {
   "cell_type": "code",
   "execution_count": 82,
   "id": "4353fc74-0ddc-4467-956a-fec53fc87089",
   "metadata": {},
   "outputs": [],
   "source": [
    "# 47. How to achieve encapsulation in python.\n",
    "#In Python, encapsulation is achieved through the use of access modifiers that control the visibility and accessibility of class attributes and methods\n",
    "#example protected encapsulation\n",
    "class Ankit:\n",
    "    def __init__(self,name,age):\n",
    "        self.name=name\n",
    "        self.__age=age # this is protected and not been accessed\n",
    "        "
   ]
  },
  {
   "cell_type": "code",
   "execution_count": 86,
   "id": "5929e620-51e1-43ad-98f4-df8bb5b83be7",
   "metadata": {},
   "outputs": [],
   "source": [
    "obj1=Ankit(\"ankit\",\"28\")"
   ]
  },
  {
   "cell_type": "code",
   "execution_count": 97,
   "id": "6dbf4f85-75dd-49b1-9215-23fc3aa1a844",
   "metadata": {},
   "outputs": [
    {
     "data": {
      "text/plain": [
       "'ankit'"
      ]
     },
     "execution_count": 97,
     "metadata": {},
     "output_type": "execute_result"
    }
   ],
   "source": [
    "obj1.name # here we cant access age"
   ]
  },
  {
   "cell_type": "code",
   "execution_count": 120,
   "id": "2471d786-1b84-4fd8-8ecd-8241eb14164e",
   "metadata": {},
   "outputs": [],
   "source": [
    "#48. Can encapsulation be bypassed in python ? If so ,how ?\n",
    "# yes , encapsulation can be bypassed.\n",
    "class Intro:\n",
    "    def __init__(self,name,age):\n",
    "        self.name=name\n",
    "        self.__age=age\n",
    "    def get_age(self):\n",
    "        return self.__age"
   ]
  },
  {
   "cell_type": "code",
   "execution_count": 125,
   "id": "2090904f-7b6b-4a8f-bfb8-a649a169f269",
   "metadata": {},
   "outputs": [
    {
     "data": {
      "text/plain": [
       "'24'"
      ]
     },
     "execution_count": 125,
     "metadata": {},
     "output_type": "execute_result"
    }
   ],
   "source": [
    "o1=Intro(\"ankit\",\"24\")\n",
    "o1.get_age() # here protected function is bypassed"
   ]
  },
  {
   "cell_type": "code",
   "execution_count": 126,
   "id": "197257b0-b080-41e6-bfb7-8661135d354c",
   "metadata": {},
   "outputs": [
    {
     "name": "stdout",
     "output_type": "stream",
     "text": [
      "Initial balance: 100\n",
      "Deposited 50. New balance is 150.\n",
      "Balance after deposit: 150\n",
      "Withdrew 30. New balance is 120.\n",
      "Balance after withdrawal: 120\n",
      "Insufficient funds.\n"
     ]
    }
   ],
   "source": [
    "#49. Implement a class BankAccount with a private balance attribute. Include a method to deposit,withdraw and check the balance.\n",
    "class BankAccount:\n",
    "    def __init__(self, initial_balance=0):\n",
    "        self.__balance = initial_balance  # Private attribute\n",
    "\n",
    "    def deposit(self, amount):\n",
    "        if amount > 0:\n",
    "            self.__balance += amount\n",
    "            print(f\"Deposited {amount}. New balance is {self.__balance}.\")\n",
    "        else:\n",
    "            print(\"Deposit amount must be positive.\")\n",
    "\n",
    "    def withdraw(self, amount):\n",
    "        if amount > 0:\n",
    "            if amount <= self.__balance:\n",
    "                self.__balance -= amount\n",
    "                print(f\"Withdrew {amount}. New balance is {self.__balance}.\")\n",
    "            else:\n",
    "                print(\"Insufficient funds.\")\n",
    "        else:\n",
    "            print(\"Withdrawal amount must be positive.\")\n",
    "\n",
    "    def get_balance(self):\n",
    "        return self.__balance\n",
    "\n",
    "# Example usage\n",
    "account = BankAccount(100)  # Creating an account with an initial balance of 100\n",
    "print(f\"Initial balance: {account.get_balance()}\")\n",
    "\n",
    "account.deposit(50)\n",
    "print(f\"Balance after deposit: {account.get_balance()}\")\n",
    "\n",
    "account.withdraw(30)\n",
    "print(f\"Balance after withdrawal: {account.get_balance()}\")\n",
    "\n",
    "account.withdraw(150)  # Attempt to withdraw more than the available balance\n"
   ]
  },
  {
   "cell_type": "code",
   "execution_count": 127,
   "id": "b6d64831-fb76-466e-a126-e421bb4c74c3",
   "metadata": {},
   "outputs": [
    {
     "name": "stdout",
     "output_type": "stream",
     "text": [
      "Initial email: john.doe@example.com\n",
      "Updated email: john.new@example.com\n",
      "Name: John Doe\n"
     ]
    }
   ],
   "source": [
    "#50. Develop a person class with private attributes name and email and method to set and get the email.\n",
    "class Person:\n",
    "    def __init__(self, name, email):\n",
    "        self.__name = name   # Private attribute for name\n",
    "        self.__email = email  # Private attribute for email\n",
    "\n",
    "    # Method to set the email\n",
    "    def set_email(self, email):\n",
    "        self.__email = email\n",
    "\n",
    "    # Method to get the email\n",
    "    def get_email(self):\n",
    "        return self.__email\n",
    "\n",
    "    # Method to get the name (if needed)\n",
    "    def get_name(self):\n",
    "        return self.__name\n",
    "\n",
    "# Example usage\n",
    "person = Person(\"John Doe\", \"john.doe@example.com\")\n",
    "print(f\"Initial email: {person.get_email()}\")\n",
    "\n",
    "# Setting a new email\n",
    "person.set_email(\"john.new@example.com\")\n",
    "print(f\"Updated email: {person.get_email()}\")\n",
    "\n",
    "# Accessing the name (optional)\n",
    "print(f\"Name: {person.get_name()}\")\n",
    "\n"
   ]
  },
  {
   "cell_type": "code",
   "execution_count": 128,
   "id": "25ef3886-bc3f-4a8b-b769-9625cf72d206",
   "metadata": {},
   "outputs": [
    {
     "data": {
      "text/plain": [
       "'Encapsulation is a cornerstone of object-oriented programming because it enables data protection, implementation hiding, improved maintainability, enhanced flexibility, modular code structure, and enforcement of contracts. By encapsulating data and behavior within objects, developers can build more robust, maintainable, and flexible software systems.'"
      ]
     },
     "execution_count": 128,
     "metadata": {},
     "output_type": "execute_result"
    }
   ],
   "source": [
    "#51. Why is encapsulation considered considered a pillar of object -oriented programming(oop) ?\n",
    "\"\"\"Encapsulation is a cornerstone of object-oriented programming because it enables data protection, implementation hiding, improved maintainability, enhanced flexibility, modular code structure, and enforcement of contracts. By encapsulating data and behavior within objects, developers can build more robust, maintainable, and flexible software systems.\"\"\"\n"
   ]
  },
  {
   "cell_type": "code",
   "execution_count": 134,
   "id": "66fd03ae-5daf-4edc-88a6-6ba56c57c0ab",
   "metadata": {},
   "outputs": [],
   "source": [
    "#52. Create a decorator in python that adds functionality to a simple function by printing a message before and after the function execution.\n",
    "def my_decorator_function():\n",
    "    print(\"the lines are printed\")\n",
    "    print(1+2)\n",
    "    print(\"lines are not printed\")"
   ]
  },
  {
   "cell_type": "code",
   "execution_count": 135,
   "id": "f01547b1-5063-4b68-89fb-83c3663b2b0c",
   "metadata": {},
   "outputs": [
    {
     "name": "stdout",
     "output_type": "stream",
     "text": [
      "the lines are printed\n",
      "3\n",
      "lines are not printed\n"
     ]
    }
   ],
   "source": [
    "my_decorator_function()"
   ]
  },
  {
   "cell_type": "code",
   "execution_count": 137,
   "id": "c2eb306a-0203-4b1b-aa29-80484a7c8742",
   "metadata": {},
   "outputs": [],
   "source": [
    "def my_decorator(func):\n",
    "    def wrapper():\n",
    "        print(\"the lines are printed\")\n",
    "        func()\n",
    "        print(\"lines are not printed\")\n",
    "    return wrapper"
   ]
  },
  {
   "cell_type": "code",
   "execution_count": 138,
   "id": "ba8912ac-e363-4c26-af56-88825ee92467",
   "metadata": {},
   "outputs": [],
   "source": [
    "@my_decorator\n",
    "def say_hello():\n",
    "    print(\"hello\")"
   ]
  },
  {
   "cell_type": "code",
   "execution_count": 139,
   "id": "68d7d146-0aa7-4fdc-bad5-04d2a33586e6",
   "metadata": {},
   "outputs": [
    {
     "name": "stdout",
     "output_type": "stream",
     "text": [
      "the lines are printed\n",
      "hello\n",
      "lines are not printed\n"
     ]
    }
   ],
   "source": [
    "say_hello()"
   ]
  },
  {
   "cell_type": "code",
   "execution_count": 140,
   "id": "86a8da3e-47a7-4d32-ac4f-e90cb5dff1b7",
   "metadata": {},
   "outputs": [
    {
     "name": "stdout",
     "output_type": "stream",
     "text": [
      "Function 'example_function': This is a custom message\n",
      "Result: 7\n"
     ]
    }
   ],
   "source": [
    "#53. Modify the decorator to accept arguments and print the function name along the message.\n",
    "def custom_decorator_with_args(message):\n",
    "    def decorator(func):\n",
    "        def wrapper(*args, **kwargs):\n",
    "            # Print the function name and the custom message\n",
    "            print(f\"Function '{func.__name__}': {message}\")\n",
    "            # Call the original function and return its result\n",
    "            result = func(*args, **kwargs)\n",
    "            return result\n",
    "        return wrapper\n",
    "    return decorator\n",
    "\n",
    "# Example usage of the decorator with arguments\n",
    "@custom_decorator_with_args(\"This is a custom message\")\n",
    "def example_function(a, b):\n",
    "    return a + b\n",
    "\n",
    "# Calling the decorated function\n",
    "result = example_function(3, 4)\n",
    "print(f\"Result: {result}\")\n",
    "\n"
   ]
  },
  {
   "cell_type": "code",
   "execution_count": 141,
   "id": "d5f77d54-561d-4850-83de-07c59fccf06f",
   "metadata": {},
   "outputs": [
    {
     "name": "stdout",
     "output_type": "stream",
     "text": [
      "Decorator 1: Before function execution\n",
      "Decorator 2: Before function execution\n",
      "Inside the example function\n",
      "Decorator 2: After function execution\n",
      "Decorator 1: After function execution\n",
      "Result: 7\n"
     ]
    }
   ],
   "source": [
    "#54. Create two decorators , and apply thenm to single function. Ensure that they execute in order they are applied.\n",
    "# First decorator\n",
    "def decorator1(func):\n",
    "    def wrapper(*args, **kwargs):\n",
    "        print(\"Decorator 1: Before function execution\")\n",
    "        result = func(*args, **kwargs)\n",
    "        print(\"Decorator 1: After function execution\")\n",
    "        return result\n",
    "    return wrapper\n",
    "\n",
    "# Second decorator\n",
    "def decorator2(func):\n",
    "    def wrapper(*args, **kwargs):\n",
    "        print(\"Decorator 2: Before function execution\")\n",
    "        result = func(*args, **kwargs)\n",
    "        print(\"Decorator 2: After function execution\")\n",
    "        return result\n",
    "    return wrapper\n",
    "\n",
    "# Applying both decorators to a single function\n",
    "@decorator1\n",
    "@decorator2\n",
    "def example_function(a, b):\n",
    "    print(\"Inside the example function\")\n",
    "    return a + b\n",
    "\n",
    "# Calling the decorated function\n",
    "result = example_function(3, 4)\n",
    "print(f\"Result: {result}\")\n"
   ]
  },
  {
   "cell_type": "code",
   "execution_count": 143,
   "id": "289571fd-e3a9-4b79-902c-72433351ac40",
   "metadata": {},
   "outputs": [
    {
     "name": "stdout",
     "output_type": "stream",
     "text": [
      "Decorator 1: Before function execution\n",
      "Decorator 2: Before function execution\n",
      "Inside the example function\n",
      "Decorator 2: After function execution\n",
      "Decorator 1: After function execution\n",
      "Result: 7\n"
     ]
    }
   ],
   "source": [
    "#55. Modify the decorator to accept and pass function arguments to the wrapped function.\n",
    "# First decorator\n",
    "def decorator1(func):\n",
    "    def wrapper(*args, **kwargs):\n",
    "        print(\"Decorator 1: Before function execution\")\n",
    "        result = func(*args, **kwargs)  # Pass arguments to the wrapped function\n",
    "        print(\"Decorator 1: After function execution\")\n",
    "        return result\n",
    "    return wrapper\n",
    "\n",
    "# Second decorator\n",
    "def decorator2(func):\n",
    "    def wrapper(*args, **kwargs):\n",
    "        print(\"Decorator 2: Before function execution\")\n",
    "        result = func(*args, **kwargs)  # Pass arguments to the wrapped function\n",
    "        print(\"Decorator 2: After function execution\")\n",
    "        return result\n",
    "    return wrapper\n",
    "\n",
    "# Applying both decorators to a single function\n",
    "@decorator1\n",
    "@decorator2\n",
    "def example_function(a, b):\n",
    "    print(\"Inside the example function\")\n",
    "    return a + b\n",
    "\n",
    "# Calling the decorated function with arguments\n",
    "result = example_function(3, 4)\n",
    "print(f\"Result: {result}\")\n",
    "\n"
   ]
  },
  {
   "cell_type": "code",
   "execution_count": 1,
   "id": "34872d56-3ab4-4c83-a1cb-57ec64d4a495",
   "metadata": {},
   "outputs": [
    {
     "name": "stdout",
     "output_type": "stream",
     "text": [
      "Decorator 1: Before function execution\n",
      "Decorator 2: Before function execution\n",
      "Inside the example function\n",
      "Decorator 2: After function execution\n",
      "Decorator 1: After function execution\n",
      "Result: 7\n",
      "Function name: example_function\n",
      "Function docstring: This is an example function that adds two numbers.\n"
     ]
    }
   ],
   "source": [
    "#56. Create a decorator that preserves the metadata of the original function.\n",
    "import functools\n",
    "\n",
    "# Decorator 1\n",
    "def decorator1(func):\n",
    "    @functools.wraps(func)\n",
    "    def wrapper(*args, **kwargs):\n",
    "        print(\"Decorator 1: Before function execution\")\n",
    "        result = func(*args, **kwargs)  # Pass arguments to the wrapped function\n",
    "        print(\"Decorator 1: After function execution\")\n",
    "        return result\n",
    "    return wrapper\n",
    "\n",
    "# Decorator 2\n",
    "def decorator2(func):\n",
    "    @functools.wraps(func)\n",
    "    def wrapper(*args, **kwargs):\n",
    "        print(\"Decorator 2: Before function execution\")\n",
    "        result = func(*args, **kwargs)  # Pass arguments to the wrapped function\n",
    "        print(\"Decorator 2: After function execution\")\n",
    "        return result\n",
    "    return wrapper\n",
    "\n",
    "# Applying both decorators to a single function\n",
    "@decorator1\n",
    "@decorator2\n",
    "def example_function(a, b):\n",
    "    \"\"\"This is an example function that adds two numbers.\"\"\"\n",
    "    print(\"Inside the example function\")\n",
    "    return a + b\n",
    "\n",
    "# Calling the decorated function with arguments\n",
    "result = example_function(3, 4)\n",
    "print(f\"Result: {result}\")\n",
    "\n",
    "# Checking the metadata of the original function\n",
    "print(f\"Function name: {example_function.__name__}\")\n",
    "print(f\"Function docstring: {example_function.__doc__}\")"
   ]
  },
  {
   "cell_type": "code",
   "execution_count": 21,
   "id": "f5d008b6-35eb-4bc6-8c6f-9d8ec0581765",
   "metadata": {},
   "outputs": [],
   "source": [
    "#57. CRreate a python class 'calculator' with a staticmethod 'add' that makes in two number and return their sum.\n",
    "\n",
    "class calculator:\n",
    "    @staticmethod\n",
    "    def get_added(x,y):\n",
    "        return x+y\n",
    "        \n",
    "    "
   ]
  },
  {
   "cell_type": "code",
   "execution_count": 24,
   "id": "f85c92fd-947d-4798-8b72-77e9d3d8f057",
   "metadata": {},
   "outputs": [],
   "source": [
    "calc=calculator.get_added(3,4)"
   ]
  },
  {
   "cell_type": "code",
   "execution_count": 25,
   "id": "78237b58-b6cd-4fd6-b2c1-35ff99ca6059",
   "metadata": {},
   "outputs": [
    {
     "data": {
      "text/plain": [
       "7"
      ]
     },
     "execution_count": 25,
     "metadata": {},
     "output_type": "execute_result"
    }
   ],
   "source": [
    "calc"
   ]
  },
  {
   "cell_type": "code",
   "execution_count": 24,
   "id": "8957a99a-4e1a-4f98-88f9-9618b0b7d2d2",
   "metadata": {},
   "outputs": [],
   "source": [
    "#58. Create a python class 'employee' with a class method get_employee_count' that returns the total number of employee created.\n",
    "class Employee():\n",
    "    total_employee=0\n",
    "    def __init__(self,name):\n",
    "        self.name=name\n",
    "        Employee.total_employee=Employee.total_employee+1\n",
    "        \n",
    "    @classmethod\n",
    "    def get_employee_count(cls):\n",
    "         return cls.total_employee\n",
    "    "
   ]
  },
  {
   "cell_type": "code",
   "execution_count": 28,
   "id": "d2f01b85-9ae9-4ff5-9ae9-d736a6b3f525",
   "metadata": {},
   "outputs": [],
   "source": [
    "emp1=Employee(\"ankit\")"
   ]
  },
  {
   "cell_type": "code",
   "execution_count": 30,
   "id": "213da8d8-27a9-4912-9252-ca4f2ca93bb8",
   "metadata": {},
   "outputs": [
    {
     "data": {
      "text/plain": [
       "1"
      ]
     },
     "execution_count": 30,
     "metadata": {},
     "output_type": "execute_result"
    }
   ],
   "source": [
    " Employee.get_employee_count()"
   ]
  },
  {
   "cell_type": "code",
   "execution_count": 31,
   "id": "0295b5ef-9f46-4648-b847-859f38ccaa58",
   "metadata": {},
   "outputs": [],
   "source": [
    "#59. Create a python class 'StringFormatter' with a static method 'reverse_string'that takes a string as input and return its reverse.\n",
    "class StringFormatter:\n",
    "    @staticmethod\n",
    "    def reverse_string(str):\n",
    "        return str[::-1]"
   ]
  },
  {
   "cell_type": "code",
   "execution_count": 33,
   "id": "b0b9de73-3a36-4c84-982f-c29d98be9fee",
   "metadata": {},
   "outputs": [],
   "source": [
    "word=StringFormatter.reverse_string(\"ankit\")"
   ]
  },
  {
   "cell_type": "code",
   "execution_count": 34,
   "id": "7579c332-aeea-428c-b94e-a6d75e4714cb",
   "metadata": {},
   "outputs": [
    {
     "data": {
      "text/plain": [
       "'tikna'"
      ]
     },
     "execution_count": 34,
     "metadata": {},
     "output_type": "execute_result"
    }
   ],
   "source": [
    "word"
   ]
  },
  {
   "cell_type": "code",
   "execution_count": 35,
   "id": "8a1379d9-95b1-49fb-8e00-60466036e2a2",
   "metadata": {},
   "outputs": [],
   "source": [
    "#60. Create a Python class 'circle' with a class method 'calculate_area' that claculates athe area of circle given its radius.\n",
    "class circle:\n",
    "    def __init__(self,radius):\n",
    "        self.__radius=radius\n",
    "    @property\n",
    "    def radius(self):\n",
    "        return self.__radius\n",
    "    @radius.setter\n",
    "    def radius_set(self,newradius):\n",
    "        self.radius=newradius\n",
    "    def area(self):\n",
    "        return 3.14 * self.radius * self.radius"
   ]
  },
  {
   "cell_type": "code",
   "execution_count": 36,
   "id": "123b3df5-57e0-4c1a-bc58-5bea69c4a83f",
   "metadata": {},
   "outputs": [],
   "source": [
    "c=circle(6)"
   ]
  },
  {
   "cell_type": "code",
   "execution_count": 37,
   "id": "7c965f97-ded9-4f5b-99da-81050cf52515",
   "metadata": {},
   "outputs": [
    {
     "data": {
      "text/plain": [
       "6"
      ]
     },
     "execution_count": 37,
     "metadata": {},
     "output_type": "execute_result"
    }
   ],
   "source": [
    "c.radius"
   ]
  },
  {
   "cell_type": "code",
   "execution_count": 38,
   "id": "28dceb55-309e-4214-9503-7c5b3935df5f",
   "metadata": {},
   "outputs": [
    {
     "data": {
      "text/plain": [
       "113.03999999999999"
      ]
     },
     "execution_count": 38,
     "metadata": {},
     "output_type": "execute_result"
    }
   ],
   "source": [
    "c.area()"
   ]
  },
  {
   "cell_type": "code",
   "execution_count": 45,
   "id": "85a6743a-4cbd-4e5b-a422-5a79300fe8e8",
   "metadata": {},
   "outputs": [],
   "source": [
    "#61. Create a python class \"temprature_converter\" with a static method \"celcius_to_fahrenheit\" that covert celcius to fahrenheit.\n",
    "class Temprature_converter:\n",
    "    @staticmethod\n",
    "    def celcius_to_fahrenheit(celcius):\n",
    "        return 1.8*celcius+32"
   ]
  },
  {
   "cell_type": "code",
   "execution_count": 46,
   "id": "179072b0-5b8a-4401-b9e3-ddfaf95194da",
   "metadata": {},
   "outputs": [],
   "source": [
    "temp=Temprature_converter.celcius_to_fahrenheit(40)"
   ]
  },
  {
   "cell_type": "code",
   "execution_count": 47,
   "id": "0e75bf6c-1bf8-4f75-8d17-79691a328199",
   "metadata": {},
   "outputs": [
    {
     "data": {
      "text/plain": [
       "104.0"
      ]
     },
     "execution_count": 47,
     "metadata": {},
     "output_type": "execute_result"
    }
   ],
   "source": [
    "temp"
   ]
  },
  {
   "cell_type": "code",
   "execution_count": 53,
   "id": "c9f64c6d-0ea8-4a5f-bbac-1a67591e0064",
   "metadata": {},
   "outputs": [],
   "source": [
    "#62. what is the purpose of the __str__() method in python classes ? Provide an example.\n",
    "#The __str__() method in Python is a special method that is used to define a human-readable string representation of an object. This method is called by the str() function and the print() function when applied to an instance of a class. By providing a __str__() method, you can customize what information is displayed when the object is printed or converted to a string."
   ]
  },
  {
   "cell_type": "code",
   "execution_count": 58,
   "id": "29b0f889-f276-44d3-b2d6-9b7bc7940486",
   "metadata": {},
   "outputs": [
    {
     "name": "stdout",
     "output_type": "stream",
     "text": [
      "Person(name=Ankit, age=30)\n",
      "Person(name=Ankit, age=30)\n"
     ]
    }
   ],
   "source": [
    "class Person:\n",
    "    def __init__(self, name, age):\n",
    "        self.name = name\n",
    "        self.age = age\n",
    "    \n",
    "    def __str__(self):\n",
    "        return f\"Person(name={self.name}, age={self.age})\"\n",
    "\n",
    "# Creating an instance of the Person class\n",
    "person = Person(\"Ankit\", 30)\n",
    "\n",
    "# Printing the instance will call the __str__() method\n",
    "print(person)  # Output: Person(name=Ankit, age=30)\n",
    "\n",
    "# Converting the instance to a string will also call the __str__() method\n",
    "person_str = str(person)\n",
    "print(person_str)  # Output: Person(name=Ankit, age=30)\n"
   ]
  },
  {
   "cell_type": "code",
   "execution_count": 60,
   "id": "07e3ef2d-5668-4617-82be-1ee5e117bcfd",
   "metadata": {},
   "outputs": [],
   "source": [
    "#63.How does the __len__() method work in python ? Provide an example\n",
    "class MyCollection:\n",
    "    def __init__(self, items):\n",
    "        self.items = items\n",
    "    \n",
    "    def __len__(self):\n",
    "        return len(self.items) \n"
   ]
  },
  {
   "cell_type": "code",
   "execution_count": 61,
   "id": "5e3b3768-4add-4a93-8756-da680ade699b",
   "metadata": {},
   "outputs": [
    {
     "name": "stdout",
     "output_type": "stream",
     "text": [
      "5\n"
     ]
    }
   ],
   "source": [
    "collection = MyCollection([1, 2, 3, 4, 5])\n",
    "print(len(collection)) "
   ]
  },
  {
   "cell_type": "code",
   "execution_count": 62,
   "id": "4890a5a7-7f27-4aa5-be0f-dc8caae52c5f",
   "metadata": {},
   "outputs": [],
   "source": [
    "# It is used to find the length of the object."
   ]
  },
  {
   "cell_type": "code",
   "execution_count": 63,
   "id": "644a99f4-e10a-44ec-9616-19cff33b3e3f",
   "metadata": {},
   "outputs": [
    {
     "data": {
      "text/plain": [
       "11"
      ]
     },
     "execution_count": 63,
     "metadata": {},
     "output_type": "execute_result"
    }
   ],
   "source": [
    "#64. Explian the usage of __add__() method in python classes.Provide in example.\n",
    "#__add__ is used to add two number.\n",
    "a=4\n",
    "b=7\n",
    "a.__add__(b)"
   ]
  },
  {
   "cell_type": "code",
   "execution_count": 67,
   "id": "2726fa7b-d132-4b11-8899-fd28fc379e21",
   "metadata": {},
   "outputs": [],
   "source": [
    "#65. What is the purpose of the __getitem__() method in python ? Provide an example.\n",
    "class MyCollection:\n",
    "    def __init__(self, items):\n",
    "        self.items = items\n",
    "    \n",
    "    def __getitem__(self, index):\n",
    "        return self.items[index] "
   ]
  },
  {
   "cell_type": "code",
   "execution_count": 69,
   "id": "8b512e00-f397-4c4b-8555-b654f5976d32",
   "metadata": {},
   "outputs": [
    {
     "name": "stdout",
     "output_type": "stream",
     "text": [
      "30\n",
      "10\n",
      "20\n",
      "30\n",
      "40\n",
      "50\n"
     ]
    }
   ],
   "source": [
    "collection = MyCollection([10, 20, 30, 40, 50])\n",
    "print(collection[2])  \n",
    "for item in collection:\n",
    "    print(item) "
   ]
  },
  {
   "cell_type": "code",
   "execution_count": 70,
   "id": "ceeb5254-d780-4a39-8613-b50f63cac0f8",
   "metadata": {},
   "outputs": [],
   "source": [
    "#66.Explain the usage of __iter__() and __next__ method of python. Provide an example using iterators.\n",
    "#__iter__ returns the iterator object itself. This is needed to support the iterator protocol, allowing the object to be used in a for loop and other contexts requiring an iterator.\n",
    "#__next__ checks if there are more items to return. If so, it returns the next item and updates the index. If there are no more items, it raises StopIteration to signal the end of the iteration."
   ]
  },
  {
   "cell_type": "code",
   "execution_count": 71,
   "id": "02927a33-3357-40f5-ab9d-9628b6c7376f",
   "metadata": {},
   "outputs": [
    {
     "name": "stdout",
     "output_type": "stream",
     "text": [
      "0\n",
      "1\n",
      "4\n",
      "9\n",
      "16\n",
      "25\n"
     ]
    }
   ],
   "source": [
    "class SquaresIterator:\n",
    "    def __init__(self, limit):\n",
    "        self.limit = limit\n",
    "        self.current = 0\n",
    "\n",
    "    def __iter__(self):\n",
    "        return self\n",
    "\n",
    "    def __next__(self):\n",
    "        if self.current <= self.limit:\n",
    "            result = self.current ** 2\n",
    "            self.current += 1\n",
    "            return result\n",
    "        else:\n",
    "            raise StopIteration\n",
    "\n",
    "# Example usage\n",
    "squares = SquaresIterator(5)\n",
    "\n",
    "for square in squares:\n",
    "    print(square)\n",
    "\n",
    "# Output:\n",
    "# 0\n",
    "# 1\n",
    "# 4\n",
    "# 9\n",
    "# 16\n",
    "# 25\n"
   ]
  },
  {
   "cell_type": "code",
   "execution_count": 2,
   "id": "63827573-ce2d-4fbd-80fe-a56ba16c839a",
   "metadata": {},
   "outputs": [
    {
     "name": "stdout",
     "output_type": "stream",
     "text": [
      "In Python, a getter method is used to access the value of an object's attribute. It allows you to encapsulate and control access to the attribute, providing a way to retrieve its value without directly accessing the attribute. The getter method can also include additional logic, such as validation or transformation, before returning the value.\n"
     ]
    }
   ],
   "source": [
    "#67. What is the purpose of getter method in python ? Provide an example demonstraing the use of getter method using a property decorators.\n",
    "print(\"In Python, a getter method is used to access the value of an object's attribute. It allows you to encapsulate and control access to the attribute, providing a way to retrieve its value without directly accessing the attribute. The getter method can also include additional logic, such as validation or transformation, before returning the value.\")\n"
   ]
  },
  {
   "cell_type": "code",
   "execution_count": 5,
   "id": "3841f32b-3a7e-428f-9866-676422eb5e3d",
   "metadata": {},
   "outputs": [
    {
     "name": "stdout",
     "output_type": "stream",
     "text": [
      "Ankit\n",
      "28\n"
     ]
    }
   ],
   "source": [
    "class Person:\n",
    "    def __init__(self, name, age):\n",
    "        self._name = name\n",
    "        self._age = age\n",
    "    \n",
    "    @property\n",
    "    def name(self):\n",
    "        return self._name\n",
    "    \n",
    "    @property\n",
    "    def age(self):\n",
    "        return self._age\n",
    "\n",
    "\n",
    "person = Person(\"Ankit\", 28)\n",
    "print(person.name)  \n",
    "print(person.age)\n"
   ]
  },
  {
   "cell_type": "code",
   "execution_count": 2,
   "id": "bf8ea204-819a-4e47-a789-b4928a755cc9",
   "metadata": {},
   "outputs": [
    {
     "data": {
      "text/plain": [
       "\"In Python, a setter method is used to control and validate the modification of an object's attribute. It allows you to define how the value of an attribute can be changed and can include logic to ensure the new value is valid.\""
      ]
     },
     "execution_count": 2,
     "metadata": {},
     "output_type": "execute_result"
    }
   ],
   "source": [
    "#68. Explain the role of settr method in python. Demonstrate how to use setter method to modify a class attribute using a property decorator.\n",
    "\"\"\"In Python, a setter method is used to control and validate the modification of an object's attribute. It allows you to define how the value of an attribute can be changed and can include logic to ensure the new value is valid.\"\"\""
   ]
  },
  {
   "cell_type": "code",
   "execution_count": 3,
   "id": "7bfbb237-cbf9-4c39-875a-3a2487d0e2e5",
   "metadata": {},
   "outputs": [
    {
     "name": "stdout",
     "output_type": "stream",
     "text": [
      "Ankit\n",
      "30\n",
      "John\n",
      "35\n"
     ]
    }
   ],
   "source": [
    "class Person:\n",
    "    def __init__(self, name, age):\n",
    "        self._name = name\n",
    "        self._age = age\n",
    "    \n",
    "    @property\n",
    "    def name(self):\n",
    "        return self._name\n",
    "    \n",
    "    @name.setter\n",
    "    def name(self, value):\n",
    "        if not isinstance(value, str):\n",
    "            raise ValueError(\"Name must be a string\")\n",
    "        self._name = value\n",
    "    \n",
    "    @property\n",
    "    def age(self):\n",
    "        return self._age\n",
    "    \n",
    "    @age.setter\n",
    "    def age(self, value):\n",
    "        if not isinstance(value, int) or value < 0:\n",
    "            raise ValueError(\"Age must be a positive integer\")\n",
    "        self._age = value\n",
    "\n",
    "# Creating an instance of the Person class\n",
    "person = Person(\"Ankit\", 30)\n",
    "\n",
    "# Accessing the attributes using the getter methods\n",
    "print(person.name)  # Output: Ankit\n",
    "print(person.age)   # Output: 30\n",
    "\n",
    "# Modifying the attributes using the setter methods\n",
    "person.name = \"John\"\n",
    "person.age = 35\n",
    "\n",
    "print(person.name)  # Output: John\n",
    "print(person.age)   # Output: 35\n",
    "\n",
    "# Trying to set invalid values will raise an exception\n",
    "# person.name = 123  # Raises ValueError: Name must be a string\n",
    "# person.age = -5    # Raises ValueError: Age must be a positive integer\n"
   ]
  },
  {
   "cell_type": "code",
   "execution_count": 4,
   "id": "76f49ad8-e6a7-482d-ba04-ce0184380c53",
   "metadata": {},
   "outputs": [],
   "source": [
    "#69. What is the purpose of @proprty decorator in python ? Provide an example illustrating its usage"
   ]
  },
  {
   "cell_type": "code",
   "execution_count": 5,
   "id": "8f7245d5-d2d7-4aa3-802d-981ccdeabd96",
   "metadata": {},
   "outputs": [
    {
     "data": {
      "text/plain": [
       "'\\nThe @property decorator in Python is used to define methods in a class that behave like attributes. This means you can define getters, setters, and deleters for class attributes without directly exposing the attribute itself.'"
      ]
     },
     "execution_count": 5,
     "metadata": {},
     "output_type": "execute_result"
    }
   ],
   "source": [
    "\"\"\"\n",
    "The @property decorator in Python is used to define methods in a class that behave like attributes. This means you can define getters, setters, and deleters for class attributes without directly exposing the attribute itself.\"\"\""
   ]
  },
  {
   "cell_type": "code",
   "execution_count": 1,
   "id": "244c87ae-eab8-41d0-92d2-508e285eeeaf",
   "metadata": {},
   "outputs": [
    {
     "name": "stdout",
     "output_type": "stream",
     "text": [
      "Ankit\n",
      "28\n"
     ]
    }
   ],
   "source": [
    "class Person:\n",
    "    def __init__(self, name, age):\n",
    "        self._name = name\n",
    "        self._age = age\n",
    "    \n",
    "    @property\n",
    "    def name(self):\n",
    "        return self._name\n",
    "    \n",
    "    @property\n",
    "    def age(self):\n",
    "        return self._age\n",
    "\n",
    "\n",
    "person = Person(\"Ankit\", 28)\n",
    "print(person.name)  \n",
    "print(person.age)\n"
   ]
  },
  {
   "cell_type": "code",
   "execution_count": 2,
   "id": "f2adcf7b-5f80-4052-ba39-2da86151e2c6",
   "metadata": {},
   "outputs": [
    {
     "data": {
      "text/plain": [
       "'In Python, the @deleter decorator is used in conjunction with the @property decorator to define a method that will be called when an attribute is deleted using the del statement. The @deleter decorator provides a way to control what happens when an attribute is deleted, allowing you to add custom behavior such as cleaning up resources, logging, or validation before the attribute is actually removed'"
      ]
     },
     "execution_count": 2,
     "metadata": {},
     "output_type": "execute_result"
    }
   ],
   "source": [
    "#70. Explain the use of the @deleter decorator in python property decorator.Provide a code example demonstrating its application.\n",
    "\"\"\"In Python, the @deleter decorator is used in conjunction with the @property decorator to define a method that will be called when an attribute is deleted using the del statement. The @deleter decorator provides a way to control what happens when an attribute is deleted, allowing you to add custom behavior such as cleaning up resources, logging, or validation before the attribute is actually removed\"\"\""
   ]
  },
  {
   "cell_type": "code",
   "execution_count": 3,
   "id": "9263856c-2e6b-4068-9c7a-b488f70b8ca0",
   "metadata": {},
   "outputs": [
    {
     "name": "stdout",
     "output_type": "stream",
     "text": [
      "Ankit\n",
      "30\n",
      "John\n",
      "35\n",
      "Deleting name: John\n",
      "Deleting age: 35\n"
     ]
    }
   ],
   "source": [
    "class Person:\n",
    "    def __init__(self, name, age):\n",
    "        self._name = name\n",
    "        self._age = age\n",
    "\n",
    "    @property\n",
    "    def name(self):\n",
    "        return self._name\n",
    "\n",
    "    @name.setter\n",
    "    def name(self, value):\n",
    "        if not isinstance(value, str):\n",
    "            raise ValueError(\"Name must be a string\")\n",
    "        self._name = value\n",
    "\n",
    "    @name.deleter\n",
    "    def name(self):\n",
    "        print(f\"Deleting name: {self._name}\")\n",
    "        del self._name\n",
    "\n",
    "    @property\n",
    "    def age(self):\n",
    "        return self._age\n",
    "\n",
    "    @age.setter\n",
    "    def age(self, value):\n",
    "        if not isinstance(value, int) or value < 0:\n",
    "            raise ValueError(\"Age must be a positive integer\")\n",
    "        self._age = value\n",
    "\n",
    "    @age.deleter\n",
    "    def age(self):\n",
    "        print(f\"Deleting age: {self._age}\")\n",
    "        del self._age\n",
    "\n",
    "# Example usage\n",
    "person = Person(\"Ankit\", 30)\n",
    "\n",
    "# Accessing and modifying attributes using property methods\n",
    "print(person.name)  # Output: Ankit\n",
    "print(person.age)   # Output: 30\n",
    "\n",
    "person.name = \"John\"\n",
    "person.age = 35\n",
    "\n",
    "print(person.name)  # Output: John\n",
    "print(person.age)   # Output: 35\n",
    "\n",
    "# Deleting attributes using deleter methods\n",
    "del person.name     # Output: Deleting name: John\n",
    "del person.age      # Output: Deleting age: 35\n",
    "\n",
    "# Trying to access deleted attributes will raise an AttributeError\n",
    "# print(person.name)  # Uncommenting this line will raise AttributeError\n",
    "# print(person.age)   # Uncommenting this line will raise AttributeError\n"
   ]
  },
  {
   "cell_type": "code",
   "execution_count": 4,
   "id": "f80fb876-e922-4219-9b45-eba0f779c9d2",
   "metadata": {},
   "outputs": [
    {
     "data": {
      "text/plain": [
       "'\\nEncapsulation is a fundamental principle of object-oriented programming (OOP) that involves restricting access to the internal state of an object and only exposing a controlled interface for interacting with that state. In Python, property decorators (@property, @<property_name>.setter, and @<property_name>.deleter) are tools that facilitate encapsulation by providing a way to define controlled access to attributes.'"
      ]
     },
     "execution_count": 4,
     "metadata": {},
     "output_type": "execute_result"
    }
   ],
   "source": [
    "#71. How does encapsulation relate to property decorators in python ? Provide an example shoiwcasing encapsulation using property decorator.\n",
    "\"\"\"\n",
    "Encapsulation is a fundamental principle of object-oriented programming (OOP) that involves restricting access to the internal state of an object and only exposing a controlled interface for interacting with that state. In Python, property decorators (@property, @<property_name>.setter, and @<property_name>.deleter) are tools that facilitate encapsulation by providing a way to define controlled access to attributes.\"\"\""
   ]
  },
  {
   "cell_type": "code",
   "execution_count": 5,
   "id": "700c65fe-ce5f-4c26-81a9-4d9bcd2cd1b8",
   "metadata": {},
   "outputs": [
    {
     "name": "stdout",
     "output_type": "stream",
     "text": [
      "1000\n",
      "1500\n",
      "1300\n",
      "Balance cannot be negative\n",
      "Alice\n",
      "can't set attribute 'owner'\n"
     ]
    }
   ],
   "source": [
    "class BankAccount:\n",
    "    def __init__(self, owner, balance):\n",
    "        self._owner = owner\n",
    "        self._balance = balance\n",
    "\n",
    "    @property\n",
    "    def owner(self):\n",
    "        return self._owner\n",
    "\n",
    "    @property\n",
    "    def balance(self):\n",
    "        return self._balance\n",
    "\n",
    "    @balance.setter\n",
    "    def balance(self, amount):\n",
    "        if amount < 0:\n",
    "            raise ValueError(\"Balance cannot be negative\")\n",
    "        self._balance = amount\n",
    "\n",
    "    def deposit(self, amount):\n",
    "        if amount <= 0:\n",
    "            raise ValueError(\"Deposit amount must be positive\")\n",
    "        self._balance += amount\n",
    "\n",
    "    def withdraw(self, amount):\n",
    "        if amount > self._balance:\n",
    "            raise ValueError(\"Insufficient funds\")\n",
    "        self._balance -= amount\n",
    "\n",
    "# Example usage\n",
    "account = BankAccount(\"Alice\", 1000)\n",
    "\n",
    "# Accessing the balance using the getter method\n",
    "print(account.balance)  # Output: 1000\n",
    "\n",
    "# Depositing money\n",
    "account.deposit(500)\n",
    "print(account.balance)  # Output: 1500\n",
    "\n",
    "# Withdrawing money\n",
    "account.withdraw(200)\n",
    "print(account.balance)  # Output: 1300\n",
    "\n",
    "# Attempting to set a negative balance directly raises an error\n",
    "try:\n",
    "    account.balance = -100  # Raises ValueError: Balance cannot be negative\n",
    "except ValueError as e:\n",
    "    print(e)\n",
    "\n",
    "# Accessing the owner using the getter method\n",
    "print(account.owner)  # Output: Alice\n",
    "\n",
    "# Attempting to modify the owner (not allowed since no setter is defined)\n",
    "try:\n",
    "    account.owner = \"Bob\"  # Raises AttributeError\n",
    "except AttributeError as e:\n",
    "    print(e)\n"
   ]
  },
  {
   "cell_type": "code",
   "execution_count": null,
   "id": "a0890769-22fa-440b-80e4-975ce6c1af58",
   "metadata": {},
   "outputs": [],
   "source": []
  }
 ],
 "metadata": {
  "kernelspec": {
   "display_name": "Python 3 (ipykernel)",
   "language": "python",
   "name": "python3"
  },
  "language_info": {
   "codemirror_mode": {
    "name": "ipython",
    "version": 3
   },
   "file_extension": ".py",
   "mimetype": "text/x-python",
   "name": "python",
   "nbconvert_exporter": "python",
   "pygments_lexer": "ipython3",
   "version": "3.10.8"
  }
 },
 "nbformat": 4,
 "nbformat_minor": 5
}
